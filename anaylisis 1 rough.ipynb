{
 "cells": [
  {
   "cell_type": "code",
   "execution_count": 17,
   "id": "bb76c5a4",
   "metadata": {},
   "outputs": [
    {
     "name": "stdout",
     "output_type": "stream",
     "text": [
      "674.7777777777777\n"
     ]
    },
    {
     "data": {
      "text/plain": [
       "689.3333333333334"
      ]
     },
     "execution_count": 17,
     "metadata": {},
     "output_type": "execute_result"
    }
   ],
   "source": [
    "import pandas as pd\n",
    "file = '2006-2011_race_and_ethncity_data_testing.csv'\n",
    "df = pd.read_csv(file)\n",
    "\n",
    "df = df[df['Grade'] == '_All']\n",
    "\n",
    "dfAsian = df[df['Category'] == 'Asian']\n",
    "df.head(20)\n",
    "\n",
    "def meanfinder(Race):\n",
    "    dfRace = df[df['Category'] == Race]\n",
    "    return sum(dfRace['Mean_Scale_Score'])/len(dfRace['Mean_Scale_Score'])\n",
    "\n",
    "print((meanfinder('Asian') + meanfinder('Black') + meanfinder('Hispanic'))/3)\n",
    "\n",
    "meanfinder('White')\n",
    "    "
   ]
  },
  {
   "cell_type": "code",
   "execution_count": null,
   "id": "4ae59e02",
   "metadata": {},
   "outputs": [],
   "source": []
  }
 ],
 "metadata": {
  "kernelspec": {
   "display_name": "Python 3 (ipykernel)",
   "language": "python",
   "name": "python3"
  },
  "language_info": {
   "codemirror_mode": {
    "name": "ipython",
    "version": 3
   },
   "file_extension": ".py",
   "mimetype": "text/x-python",
   "name": "python",
   "nbconvert_exporter": "python",
   "pygments_lexer": "ipython3",
   "version": "3.9.12"
  }
 },
 "nbformat": 4,
 "nbformat_minor": 5
}
